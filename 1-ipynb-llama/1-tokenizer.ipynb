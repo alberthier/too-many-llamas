{
 "cells": [
  {
   "cell_type": "markdown",
   "metadata": {},
   "source": [
    "# LLM tokenizer\n",
    "\n",
    "A tokenizer can be seen as a mapping of words to numbers. Well, not exactly words, but sometimes words, sometimes fragments of words."
   ]
  },
  {
   "cell_type": "code",
   "execution_count": 33,
   "metadata": {},
   "outputs": [
    {
     "name": "stdout",
     "output_type": "stream",
     "text": [
      "Requirement already satisfied: regex in /home/eric/Projects/too-many-llama/.venv/lib/python3.13/site-packages (2024.11.6)\n",
      "Requirement already satisfied: tiktoken in /home/eric/Projects/too-many-llama/.venv/lib/python3.13/site-packages (0.9.0)\n",
      "Requirement already satisfied: requests>=2.26.0 in /home/eric/Projects/too-many-llama/.venv/lib/python3.13/site-packages (from tiktoken) (2.32.3)\n",
      "Requirement already satisfied: charset-normalizer<4,>=2 in /home/eric/Projects/too-many-llama/.venv/lib/python3.13/site-packages (from requests>=2.26.0->tiktoken) (3.4.2)\n",
      "Requirement already satisfied: idna<4,>=2.5 in /home/eric/Projects/too-many-llama/.venv/lib/python3.13/site-packages (from requests>=2.26.0->tiktoken) (3.10)\n",
      "Requirement already satisfied: urllib3<3,>=1.21.1 in /home/eric/Projects/too-many-llama/.venv/lib/python3.13/site-packages (from requests>=2.26.0->tiktoken) (2.4.0)\n",
      "Requirement already satisfied: certifi>=2017.4.17 in /home/eric/Projects/too-many-llama/.venv/lib/python3.13/site-packages (from requests>=2.26.0->tiktoken) (2025.4.26)\n",
      "Note: you may need to restart the kernel to use updated packages.\n"
     ]
    }
   ],
   "source": [
    "%pip install regex tiktoken"
   ]
  },
  {
   "cell_type": "code",
   "execution_count": 34,
   "metadata": {},
   "outputs": [],
   "source": [
    "import urllib.request\n",
    "from pathlib import Path\n",
    "\n",
    "if not Path(\"tokenizer.json\").exists():\n",
    "    with open(\"HF_TOKEN\") as f:\n",
    "        HF_TOKEN = f.read()\n",
    "\n",
    "\n",
    "    display(\"Downloading llama 3.2 tokenizer\")\n",
    "\n",
    "    opener = urllib.request.build_opener()\n",
    "    opener.addheaders = [(\"Authorization\", f\"Bearer {HF_TOKEN}\")]\n",
    "    urllib.request.install_opener(opener)\n",
    "\n",
    "    tokenizer_json_path, headers = urllib.request.urlretrieve('https://huggingface.co/meta-llama/Llama-3.2-1B/raw/main/tokenizer.json', \"tokenizer.json\")\n",
    "else:\n",
    "    tokenizer_json_path = \"tokenizer.json\""
   ]
  },
  {
   "cell_type": "markdown",
   "metadata": {},
   "source": [
    "Load the tokenizer data from the JSON file.\n",
    "\n",
    "The split regex will be used to split the text into tokens\n",
    "\n",
    "the vocabulary maps the token strings to their corresponding ids"
   ]
  },
  {
   "cell_type": "code",
   "execution_count": 35,
   "metadata": {},
   "outputs": [
    {
     "data": {
      "text/plain": [
       "\"Splitting regex: (?i:'s|'t|'re|'ve|'m|'ll|'d)|[^\\\\r\\\\n\\\\p{L}\\\\p{N}]?\\\\p{L}+|\\\\p{N}{1,3}| ?[^\\\\s\\\\p{L}\\\\p{N}]+[\\\\r\\\\n]*|\\\\s*[\\\\r\\\\n]+|\\\\s+(?!\\\\S)|\\\\s+\""
      ]
     },
     "metadata": {},
     "output_type": "display_data"
    },
    {
     "data": {
      "text/plain": [
       "'Vocabulary length: 128000'"
      ]
     },
     "metadata": {},
     "output_type": "display_data"
    }
   ],
   "source": [
    "import json\n",
    "with open(tokenizer_json_path) as f:\n",
    "    tokenizer_data = json.load(f)\n",
    "split = next(filter(lambda t: t[\"type\"] == \"Split\", tokenizer_data[\"pre_tokenizer\"][\"pretokenizers\"]))\n",
    "split_regex = split[\"pattern\"][\"Regex\"]\n",
    "vocab = {k.replace(\"Ġ\", \" \").encode(\"utf-8\"): v for k, v in tokenizer_data[\"model\"][\"vocab\"].items()}\n",
    "\n",
    "display(f\"Splitting regex: {split_regex}\")\n",
    "display(f\"Vocabulary length: {len(vocab)}\")"
   ]
  },
  {
   "cell_type": "markdown",
   "metadata": {},
   "source": [
    "Let's try to split a text with this regex"
   ]
  },
  {
   "cell_type": "code",
   "execution_count": 36,
   "metadata": {},
   "outputs": [],
   "source": [
    "vocab_inv = {v: k for k, v in vocab.items()}"
   ]
  },
  {
   "cell_type": "code",
   "execution_count": 37,
   "metadata": {},
   "outputs": [],
   "source": [
    "import regex\n",
    "\n",
    "tok_regex = regex.compile(split_regex)"
   ]
  },
  {
   "cell_type": "code",
   "execution_count": 66,
   "metadata": {},
   "outputs": [
    {
     "data": {
      "text/plain": [
       "[b'I',\n",
       " b\"'m\",\n",
       " b' pretty',\n",
       " b' much',\n",
       " b' fucked',\n",
       " b'.',\n",
       " b' That',\n",
       " b\"'s\",\n",
       " b' my',\n",
       " b' considered',\n",
       " b' opinion',\n",
       " b'.',\n",
       " b' Fucked',\n",
       " b'.',\n",
       " b' Six',\n",
       " b' days',\n",
       " b' into',\n",
       " b' what',\n",
       " b' should',\n",
       " b' be',\n",
       " b' one',\n",
       " b' of',\n",
       " b' the',\n",
       " b' greatest',\n",
       " b' two',\n",
       " b' months',\n",
       " b' of',\n",
       " b' my',\n",
       " b' life',\n",
       " b',',\n",
       " b' and',\n",
       " b' it',\n",
       " b\"'s\",\n",
       " b' turned',\n",
       " b' into',\n",
       " b' a',\n",
       " b' nightmare',\n",
       " b'.']"
      ]
     },
     "execution_count": 66,
     "metadata": {},
     "output_type": "execute_result"
    }
   ],
   "source": [
    "text = \"I'm pretty much fucked. That's my considered opinion. Fucked. Six days into what should be one of the greatest two months of my life, and it's turned into a nightmare.\"\n",
    "tokens = [bytes(t, \"utf-8\") for t in tok_regex.findall(text)]\n",
    "tokens"
   ]
  },
  {
   "cell_type": "code",
   "execution_count": 67,
   "metadata": {},
   "outputs": [],
   "source": [
    "def bpe_encode(\n",
    "    mergeable_ranks: dict[bytes, int], input: str, visualise: str | None = \"colour\"\n",
    ") -> list[int]:\n",
    "    parts = [bytes([b]) for b in input]\n",
    "    while True:\n",
    "        # See the intermediate merges play out!\n",
    "        # if visualise:\n",
    "        #     if visualise in [\"colour\", \"color\"]:\n",
    "        #         visualise_tokens(parts)\n",
    "        #     elif visualise == \"simple\":\n",
    "        #         print(parts)\n",
    "\n",
    "        # Iterate over all pairs and find the pair we want to merge the most\n",
    "        min_idx = None\n",
    "        min_rank = None\n",
    "        for i, pair in enumerate(zip(parts[:-1], parts[1:])):\n",
    "            rank = mergeable_ranks.get(pair[0] + pair[1])\n",
    "            if rank is not None and (min_rank is None or rank < min_rank):\n",
    "                min_idx = i\n",
    "                min_rank = rank\n",
    "\n",
    "        # If there were no pairs we could merge, we're done!\n",
    "        if min_rank is None:\n",
    "            break\n",
    "        assert min_idx is not None\n",
    "\n",
    "        # Otherwise, merge that pair and leave the rest unchanged. Then repeat.\n",
    "        parts = parts[:min_idx] + [parts[min_idx] + parts[min_idx + 1]] + parts[min_idx + 2 :]\n",
    "\n",
    "    if visualise:\n",
    "        print()\n",
    "\n",
    "    tokens = [mergeable_ranks[part] for part in parts]\n",
    "    return tokens"
   ]
  },
  {
   "cell_type": "code",
   "execution_count": 68,
   "metadata": {},
   "outputs": [
    {
     "data": {
      "text/plain": [
       "[15339]"
      ]
     },
     "execution_count": 68,
     "metadata": {},
     "output_type": "execute_result"
    }
   ],
   "source": [
    "bpe_encode(vocab, b\"hello\", None)"
   ]
  },
  {
   "cell_type": "code",
   "execution_count": 69,
   "metadata": {},
   "outputs": [
    {
     "data": {
      "text/plain": [
       "b'hello'"
      ]
     },
     "execution_count": 69,
     "metadata": {},
     "output_type": "execute_result"
    }
   ],
   "source": [
    "vocab_inv[15339]"
   ]
  },
  {
   "cell_type": "code",
   "execution_count": 70,
   "metadata": {},
   "outputs": [
    {
     "name": "stdout",
     "output_type": "stream",
     "text": [
      "[40]\n",
      "[2846]\n",
      "[5128]\n",
      "[1790]\n",
      "[28252]\n",
      "[13]\n",
      "[3011]\n",
      "[596]\n",
      "[856]\n",
      "[6646]\n",
      "[9647]\n",
      "[13]\n",
      "[64662]\n",
      "[13]\n",
      "[19198]\n",
      "[2919]\n",
      "[1139]\n",
      "[1148]\n",
      "[1288]\n",
      "[387]\n",
      "[832]\n",
      "[315]\n",
      "[279]\n",
      "[12474]\n",
      "[1403]\n",
      "[4038]\n",
      "[315]\n",
      "[856]\n",
      "[2324]\n",
      "[11]\n",
      "[323]\n",
      "[433]\n",
      "[596]\n",
      "[6656]\n",
      "[1139]\n",
      "[264]\n",
      "[38911]\n",
      "[13]\n"
     ]
    },
    {
     "data": {
      "text/plain": [
       "[40,\n",
       " 2846,\n",
       " 5128,\n",
       " 1790,\n",
       " 28252,\n",
       " 13,\n",
       " 3011,\n",
       " 596,\n",
       " 856,\n",
       " 6646,\n",
       " 9647,\n",
       " 13,\n",
       " 64662,\n",
       " 13,\n",
       " 19198,\n",
       " 2919,\n",
       " 1139,\n",
       " 1148,\n",
       " 1288,\n",
       " 387,\n",
       " 832,\n",
       " 315,\n",
       " 279,\n",
       " 12474,\n",
       " 1403,\n",
       " 4038,\n",
       " 315,\n",
       " 856,\n",
       " 2324,\n",
       " 11,\n",
       " 323,\n",
       " 433,\n",
       " 596,\n",
       " 6656,\n",
       " 1139,\n",
       " 264,\n",
       " 38911,\n",
       " 13]"
      ]
     },
     "metadata": {},
     "output_type": "display_data"
    }
   ],
   "source": [
    "encoded = []\n",
    "for token in tokens:\n",
    "    enc = bpe_encode(vocab, token, None)\n",
    "    print(enc)\n",
    "    encoded.extend(enc)\n",
    "\n",
    "display(encoded)"
   ]
  },
  {
   "cell_type": "code",
   "execution_count": 71,
   "metadata": {},
   "outputs": [
    {
     "data": {
      "text/plain": [
       "b\"I'm pretty much fucked. That's my considered opinion. Fucked. Six days into what should be one of the greatest two months of my life, and it's turned into a nightmare.\""
      ]
     },
     "execution_count": 71,
     "metadata": {},
     "output_type": "execute_result"
    }
   ],
   "source": [
    "decoded = b\"\"\n",
    "\n",
    "for t in encoded:\n",
    "    decoded += vocab_inv[t]\n",
    "decoded"
   ]
  },
  {
   "cell_type": "code",
   "execution_count": 72,
   "metadata": {},
   "outputs": [],
   "source": [
    "import tiktoken\n",
    "cl100k_base = tiktoken.get_encoding(\"cl100k_base\")"
   ]
  },
  {
   "cell_type": "code",
   "execution_count": 78,
   "metadata": {},
   "outputs": [
    {
     "name": "stdout",
     "output_type": "stream",
     "text": [
      "[40]\n",
      "[2846]\n",
      "[5128]\n",
      "[1790]\n",
      "[28252]\n",
      "[13]\n",
      "[3011]\n",
      "[596]\n",
      "[856]\n",
      "[6646]\n",
      "[9647]\n",
      "[13]\n",
      "[64662]\n",
      "[13]\n",
      "[19198]\n",
      "[2919]\n",
      "[1139]\n",
      "[1148]\n",
      "[1288]\n",
      "[387]\n",
      "[832]\n",
      "[315]\n",
      "[279]\n",
      "[12474]\n",
      "[1403]\n",
      "[4038]\n",
      "[315]\n",
      "[856]\n",
      "[2324]\n",
      "[11]\n",
      "[323]\n",
      "[433]\n",
      "[596]\n",
      "[6656]\n",
      "[1139]\n",
      "[264]\n",
      "[38911]\n",
      "[13]\n"
     ]
    },
    {
     "data": {
      "text/plain": [
       "[40,\n",
       " 2846,\n",
       " 5128,\n",
       " 1790,\n",
       " 28252,\n",
       " 13,\n",
       " 3011,\n",
       " 596,\n",
       " 856,\n",
       " 6646,\n",
       " 9647,\n",
       " 13,\n",
       " 64662,\n",
       " 13,\n",
       " 19198,\n",
       " 2919,\n",
       " 1139,\n",
       " 1148,\n",
       " 1288,\n",
       " 387,\n",
       " 832,\n",
       " 315,\n",
       " 279,\n",
       " 12474,\n",
       " 1403,\n",
       " 4038,\n",
       " 315,\n",
       " 856,\n",
       " 2324,\n",
       " 11,\n",
       " 323,\n",
       " 433,\n",
       " 596,\n",
       " 6656,\n",
       " 1139,\n",
       " 264,\n",
       " 38911,\n",
       " 13]"
      ]
     },
     "metadata": {},
     "output_type": "display_data"
    }
   ],
   "source": [
    "\n",
    "encoded = []\n",
    "for token in tok_regex.findall(text):\n",
    "    enc = bpe_encode(cl100k_base._mergeable_ranks, bytes(token, \"utf-8\"), None)\n",
    "    print(enc)\n",
    "    encoded.extend(enc)\n",
    "\n",
    "display(encoded)"
   ]
  },
  {
   "cell_type": "code",
   "execution_count": 79,
   "metadata": {},
   "outputs": [
    {
     "data": {
      "text/plain": [
       "\"'(?i:[sdmt]|ll|ve|re)|[^\\\\r\\\\n\\\\p{L}\\\\p{N}]?+\\\\p{L}++|\\\\p{N}{1,3}+| ?[^\\\\s\\\\p{L}\\\\p{N}]++[\\\\r\\\\n]*+|\\\\s++$|\\\\s*[\\\\r\\\\n]|\\\\s+(?!\\\\S)|\\\\s\""
      ]
     },
     "execution_count": 79,
     "metadata": {},
     "output_type": "execute_result"
    }
   ],
   "source": [
    "cl100k_base._pat_str"
   ]
  },
  {
   "cell_type": "code",
   "execution_count": 80,
   "metadata": {},
   "outputs": [
    {
     "data": {
      "text/plain": [
       "\"(?i:'s|'t|'re|'ve|'m|'ll|'d)|[^\\\\r\\\\n\\\\p{L}\\\\p{N}]?\\\\p{L}+|\\\\p{N}{1,3}| ?[^\\\\s\\\\p{L}\\\\p{N}]+[\\\\r\\\\n]*|\\\\s*[\\\\r\\\\n]+|\\\\s+(?!\\\\S)|\\\\s+\""
      ]
     },
     "execution_count": 80,
     "metadata": {},
     "output_type": "execute_result"
    }
   ],
   "source": [
    "split_regex"
   ]
  },
  {
   "cell_type": "code",
   "execution_count": 81,
   "metadata": {},
   "outputs": [
    {
     "data": {
      "text/plain": [
       "['I',\n",
       " \"'m\",\n",
       " ' pretty',\n",
       " ' much',\n",
       " ' fucked',\n",
       " '.',\n",
       " ' That',\n",
       " \"'s\",\n",
       " ' my',\n",
       " ' considered',\n",
       " ' opinion',\n",
       " '.',\n",
       " ' Fucked',\n",
       " '.',\n",
       " ' Six',\n",
       " ' days',\n",
       " ' into',\n",
       " ' what',\n",
       " ' should',\n",
       " ' be',\n",
       " ' one',\n",
       " ' of',\n",
       " ' the',\n",
       " ' greatest',\n",
       " ' two',\n",
       " ' months',\n",
       " ' of',\n",
       " ' my',\n",
       " ' life',\n",
       " ',',\n",
       " ' and',\n",
       " ' it',\n",
       " \"'s\",\n",
       " ' turned',\n",
       " ' into',\n",
       " ' a',\n",
       " ' nightmare',\n",
       " '.']"
      ]
     },
     "execution_count": 81,
     "metadata": {},
     "output_type": "execute_result"
    }
   ],
   "source": [
    "regex.compile(cl100k_base._pat_str).findall(text)"
   ]
  },
  {
   "cell_type": "code",
   "execution_count": 84,
   "metadata": {},
   "outputs": [],
   "source": [
    "import tiktoken._educational as tike"
   ]
  },
  {
   "cell_type": "code",
   "execution_count": 85,
   "metadata": {},
   "outputs": [],
   "source": [
    "tke = tike.SimpleBytePairEncoding(pat_str=cl100k_base._pat_str, mergeable_ranks=cl100k_base._mergeable_ranks)"
   ]
  },
  {
   "cell_type": "code",
   "execution_count": 86,
   "metadata": {},
   "outputs": [
    {
     "name": "stdout",
     "output_type": "stream",
     "text": [
      "\u001b[48;5;167mI\u001b[0m\n",
      "\n",
      "\u001b[48;5;167m'\u001b[48;5;179mm\u001b[0m\n",
      "\u001b[48;5;167m'm\u001b[0m\n",
      "\n",
      "\u001b[48;5;167m \u001b[48;5;179mp\u001b[48;5;185mr\u001b[48;5;77me\u001b[48;5;80mt\u001b[48;5;68mt\u001b[48;5;134my\u001b[0m\n",
      "\u001b[48;5;167m \u001b[48;5;179mp\u001b[48;5;185mre\u001b[48;5;80mt\u001b[48;5;68mt\u001b[48;5;134my\u001b[0m\n",
      "\u001b[48;5;167m p\u001b[48;5;185mre\u001b[48;5;80mt\u001b[48;5;68mt\u001b[48;5;134my\u001b[0m\n",
      "\u001b[48;5;167m pre\u001b[48;5;80mt\u001b[48;5;68mt\u001b[48;5;134my\u001b[0m\n",
      "\u001b[48;5;167m pre\u001b[48;5;80mt\u001b[48;5;68mty\u001b[0m\n",
      "\u001b[48;5;167m pret\u001b[48;5;68mty\u001b[0m\n",
      "\u001b[48;5;167m pretty\u001b[0m\n",
      "\n",
      "\u001b[48;5;167m \u001b[48;5;179mm\u001b[48;5;185mu\u001b[48;5;77mc\u001b[48;5;80mh\u001b[0m\n",
      "\u001b[48;5;167m m\u001b[48;5;185mu\u001b[48;5;77mc\u001b[48;5;80mh\u001b[0m\n",
      "\u001b[48;5;167m m\u001b[48;5;185mu\u001b[48;5;77mch\u001b[0m\n",
      "\u001b[48;5;167m m\u001b[48;5;185much\u001b[0m\n",
      "\u001b[48;5;167m much\u001b[0m\n",
      "\n",
      "\u001b[48;5;167m \u001b[48;5;179mf\u001b[48;5;185mu\u001b[48;5;77mc\u001b[48;5;80mk\u001b[48;5;68me\u001b[48;5;134md\u001b[0m\n",
      "\u001b[48;5;167m f\u001b[48;5;185mu\u001b[48;5;77mc\u001b[48;5;80mk\u001b[48;5;68me\u001b[48;5;134md\u001b[0m\n",
      "\u001b[48;5;167m f\u001b[48;5;185mu\u001b[48;5;77mc\u001b[48;5;80mk\u001b[48;5;68med\u001b[0m\n",
      "\u001b[48;5;167m f\u001b[48;5;185mu\u001b[48;5;77mck\u001b[48;5;68med\u001b[0m\n",
      "\u001b[48;5;167m f\u001b[48;5;185muck\u001b[48;5;68med\u001b[0m\n",
      "\u001b[48;5;167m fuck\u001b[48;5;68med\u001b[0m\n",
      "\u001b[48;5;167m fucked\u001b[0m\n",
      "\n",
      "\u001b[48;5;167m.\u001b[0m\n",
      "\n",
      "\u001b[48;5;167m \u001b[48;5;179mT\u001b[48;5;185mh\u001b[48;5;77ma\u001b[48;5;80mt\u001b[0m\n",
      "\u001b[48;5;167m \u001b[48;5;179mT\u001b[48;5;185mh\u001b[48;5;77mat\u001b[0m\n",
      "\u001b[48;5;167m T\u001b[48;5;185mh\u001b[48;5;77mat\u001b[0m\n",
      "\u001b[48;5;167m Th\u001b[48;5;77mat\u001b[0m\n",
      "\u001b[48;5;167m That\u001b[0m\n",
      "\n",
      "\u001b[48;5;167m'\u001b[48;5;179ms\u001b[0m\n",
      "\u001b[48;5;167m's\u001b[0m\n",
      "\n",
      "\u001b[48;5;167m \u001b[48;5;179mm\u001b[48;5;185my\u001b[0m\n",
      "\u001b[48;5;167m m\u001b[48;5;185my\u001b[0m\n",
      "\u001b[48;5;167m my\u001b[0m\n",
      "\n",
      "\u001b[48;5;167m \u001b[48;5;179mc\u001b[48;5;185mo\u001b[48;5;77mn\u001b[48;5;80ms\u001b[48;5;68mi\u001b[48;5;134md\u001b[48;5;167me\u001b[48;5;179mr\u001b[48;5;185me\u001b[48;5;77md\u001b[0m\n",
      "\u001b[48;5;167m \u001b[48;5;179mc\u001b[48;5;185mo\u001b[48;5;77mn\u001b[48;5;80ms\u001b[48;5;68mi\u001b[48;5;134md\u001b[48;5;167mer\u001b[48;5;185me\u001b[48;5;77md\u001b[0m\n",
      "\u001b[48;5;167m \u001b[48;5;179mc\u001b[48;5;185mon\u001b[48;5;80ms\u001b[48;5;68mi\u001b[48;5;134md\u001b[48;5;167mer\u001b[48;5;185me\u001b[48;5;77md\u001b[0m\n",
      "\u001b[48;5;167m c\u001b[48;5;185mon\u001b[48;5;80ms\u001b[48;5;68mi\u001b[48;5;134md\u001b[48;5;167mer\u001b[48;5;185me\u001b[48;5;77md\u001b[0m\n",
      "\u001b[48;5;167m c\u001b[48;5;185mon\u001b[48;5;80ms\u001b[48;5;68mi\u001b[48;5;134md\u001b[48;5;167mer\u001b[48;5;185med\u001b[0m\n",
      "\u001b[48;5;167m c\u001b[48;5;185mon\u001b[48;5;80ms\u001b[48;5;68mid\u001b[48;5;167mer\u001b[48;5;185med\u001b[0m\n",
      "\u001b[48;5;167m con\u001b[48;5;80ms\u001b[48;5;68mid\u001b[48;5;167mer\u001b[48;5;185med\u001b[0m\n",
      "\u001b[48;5;167m cons\u001b[48;5;68mid\u001b[48;5;167mer\u001b[48;5;185med\u001b[0m\n",
      "\u001b[48;5;167m cons\u001b[48;5;68mider\u001b[48;5;185med\u001b[0m\n",
      "\u001b[48;5;167m consider\u001b[48;5;185med\u001b[0m\n",
      "\u001b[48;5;167m considered\u001b[0m\n",
      "\n",
      "\u001b[48;5;167m \u001b[48;5;179mo\u001b[48;5;185mp\u001b[48;5;77mi\u001b[48;5;80mn\u001b[48;5;68mi\u001b[48;5;134mo\u001b[48;5;167mn\u001b[0m\n",
      "\u001b[48;5;167m \u001b[48;5;179mo\u001b[48;5;185mp\u001b[48;5;77min\u001b[48;5;68mi\u001b[48;5;134mo\u001b[48;5;167mn\u001b[0m\n",
      "\u001b[48;5;167m \u001b[48;5;179mo\u001b[48;5;185mp\u001b[48;5;77min\u001b[48;5;68mi\u001b[48;5;134mon\u001b[0m\n",
      "\u001b[48;5;167m \u001b[48;5;179mo\u001b[48;5;185mp\u001b[48;5;77min\u001b[48;5;68mion\u001b[0m\n",
      "\u001b[48;5;167m o\u001b[48;5;185mp\u001b[48;5;77min\u001b[48;5;68mion\u001b[0m\n",
      "\u001b[48;5;167m op\u001b[48;5;77min\u001b[48;5;68mion\u001b[0m\n",
      "\u001b[48;5;167m opin\u001b[48;5;68mion\u001b[0m\n",
      "\u001b[48;5;167m opinion\u001b[0m\n",
      "\n",
      "\u001b[48;5;167m.\u001b[0m\n",
      "\n",
      "\u001b[48;5;167m \u001b[48;5;179mF\u001b[48;5;185mu\u001b[48;5;77mc\u001b[48;5;80mk\u001b[48;5;68me\u001b[48;5;134md\u001b[0m\n",
      "\u001b[48;5;167m \u001b[48;5;179mF\u001b[48;5;185mu\u001b[48;5;77mc\u001b[48;5;80mk\u001b[48;5;68med\u001b[0m\n",
      "\u001b[48;5;167m \u001b[48;5;179mF\u001b[48;5;185mu\u001b[48;5;77mck\u001b[48;5;68med\u001b[0m\n",
      "\u001b[48;5;167m F\u001b[48;5;185mu\u001b[48;5;77mck\u001b[48;5;68med\u001b[0m\n",
      "\u001b[48;5;167m F\u001b[48;5;185muck\u001b[48;5;68med\u001b[0m\n",
      "\u001b[48;5;167m Fuck\u001b[48;5;68med\u001b[0m\n",
      "\u001b[48;5;167m Fucked\u001b[0m\n",
      "\n",
      "\u001b[48;5;167m.\u001b[0m\n",
      "\n",
      "\u001b[48;5;167m \u001b[48;5;179mS\u001b[48;5;185mi\u001b[48;5;77mx\u001b[0m\n",
      "\u001b[48;5;167m S\u001b[48;5;185mi\u001b[48;5;77mx\u001b[0m\n",
      "\u001b[48;5;167m S\u001b[48;5;185mix\u001b[0m\n",
      "\u001b[48;5;167m Six\u001b[0m\n",
      "\n",
      "\u001b[48;5;167m \u001b[48;5;179md\u001b[48;5;185ma\u001b[48;5;77my\u001b[48;5;80ms\u001b[0m\n",
      "\u001b[48;5;167m d\u001b[48;5;185ma\u001b[48;5;77my\u001b[48;5;80ms\u001b[0m\n",
      "\u001b[48;5;167m d\u001b[48;5;185may\u001b[48;5;80ms\u001b[0m\n",
      "\u001b[48;5;167m d\u001b[48;5;185mays\u001b[0m\n",
      "\u001b[48;5;167m days\u001b[0m\n",
      "\n",
      "\u001b[48;5;167m \u001b[48;5;179mi\u001b[48;5;185mn\u001b[48;5;77mt\u001b[48;5;80mo\u001b[0m\n",
      "\u001b[48;5;167m \u001b[48;5;179min\u001b[48;5;77mt\u001b[48;5;80mo\u001b[0m\n",
      "\u001b[48;5;167m in\u001b[48;5;77mt\u001b[48;5;80mo\u001b[0m\n",
      "\u001b[48;5;167m int\u001b[48;5;80mo\u001b[0m\n",
      "\u001b[48;5;167m into\u001b[0m\n",
      "\n",
      "\u001b[48;5;167m \u001b[48;5;179mw\u001b[48;5;185mh\u001b[48;5;77ma\u001b[48;5;80mt\u001b[0m\n",
      "\u001b[48;5;167m \u001b[48;5;179mw\u001b[48;5;185mh\u001b[48;5;77mat\u001b[0m\n",
      "\u001b[48;5;167m w\u001b[48;5;185mh\u001b[48;5;77mat\u001b[0m\n",
      "\u001b[48;5;167m wh\u001b[48;5;77mat\u001b[0m\n",
      "\u001b[48;5;167m what\u001b[0m\n",
      "\n",
      "\u001b[48;5;167m \u001b[48;5;179ms\u001b[48;5;185mh\u001b[48;5;77mo\u001b[48;5;80mu\u001b[48;5;68ml\u001b[48;5;134md\u001b[0m\n",
      "\u001b[48;5;167m s\u001b[48;5;185mh\u001b[48;5;77mo\u001b[48;5;80mu\u001b[48;5;68ml\u001b[48;5;134md\u001b[0m\n",
      "\u001b[48;5;167m s\u001b[48;5;185mh\u001b[48;5;77mou\u001b[48;5;68ml\u001b[48;5;134md\u001b[0m\n",
      "\u001b[48;5;167m s\u001b[48;5;185mh\u001b[48;5;77mou\u001b[48;5;68mld\u001b[0m\n",
      "\u001b[48;5;167m sh\u001b[48;5;77mou\u001b[48;5;68mld\u001b[0m\n",
      "\u001b[48;5;167m sh\u001b[48;5;77mould\u001b[0m\n",
      "\u001b[48;5;167m should\u001b[0m\n",
      "\n",
      "\u001b[48;5;167m \u001b[48;5;179mb\u001b[48;5;185me\u001b[0m\n",
      "\u001b[48;5;167m b\u001b[48;5;185me\u001b[0m\n",
      "\u001b[48;5;167m be\u001b[0m\n",
      "\n",
      "\u001b[48;5;167m \u001b[48;5;179mo\u001b[48;5;185mn\u001b[48;5;77me\u001b[0m\n",
      "\u001b[48;5;167m \u001b[48;5;179mon\u001b[48;5;77me\u001b[0m\n",
      "\u001b[48;5;167m on\u001b[48;5;77me\u001b[0m\n",
      "\u001b[48;5;167m one\u001b[0m\n",
      "\n",
      "\u001b[48;5;167m \u001b[48;5;179mo\u001b[48;5;185mf\u001b[0m\n",
      "\u001b[48;5;167m o\u001b[48;5;185mf\u001b[0m\n",
      "\u001b[48;5;167m of\u001b[0m\n",
      "\n",
      "\u001b[48;5;167m \u001b[48;5;179mt\u001b[48;5;185mh\u001b[48;5;77me\u001b[0m\n",
      "\u001b[48;5;167m t\u001b[48;5;185mh\u001b[48;5;77me\u001b[0m\n",
      "\u001b[48;5;167m th\u001b[48;5;77me\u001b[0m\n",
      "\u001b[48;5;167m the\u001b[0m\n",
      "\n",
      "\u001b[48;5;167m \u001b[48;5;179mg\u001b[48;5;185mr\u001b[48;5;77me\u001b[48;5;80ma\u001b[48;5;68mt\u001b[48;5;134me\u001b[48;5;167ms\u001b[48;5;179mt\u001b[0m\n",
      "\u001b[48;5;167m \u001b[48;5;179mg\u001b[48;5;185mre\u001b[48;5;80ma\u001b[48;5;68mt\u001b[48;5;134me\u001b[48;5;167ms\u001b[48;5;179mt\u001b[0m\n",
      "\u001b[48;5;167m \u001b[48;5;179mg\u001b[48;5;185mre\u001b[48;5;80mat\u001b[48;5;134me\u001b[48;5;167ms\u001b[48;5;179mt\u001b[0m\n",
      "\u001b[48;5;167m \u001b[48;5;179mg\u001b[48;5;185mre\u001b[48;5;80mat\u001b[48;5;134me\u001b[48;5;167mst\u001b[0m\n",
      "\u001b[48;5;167m g\u001b[48;5;185mre\u001b[48;5;80mat\u001b[48;5;134me\u001b[48;5;167mst\u001b[0m\n",
      "\u001b[48;5;167m g\u001b[48;5;185mre\u001b[48;5;80mate\u001b[48;5;167mst\u001b[0m\n",
      "\u001b[48;5;167m g\u001b[48;5;185mreate\u001b[48;5;167mst\u001b[0m\n",
      "\u001b[48;5;167m g\u001b[48;5;185mreatest\u001b[0m\n",
      "\u001b[48;5;167m greatest\u001b[0m\n",
      "\n",
      "\u001b[48;5;167m \u001b[48;5;179mt\u001b[48;5;185mw\u001b[48;5;77mo\u001b[0m\n",
      "\u001b[48;5;167m t\u001b[48;5;185mw\u001b[48;5;77mo\u001b[0m\n",
      "\u001b[48;5;167m t\u001b[48;5;185mwo\u001b[0m\n",
      "\u001b[48;5;167m two\u001b[0m\n",
      "\n",
      "\u001b[48;5;167m \u001b[48;5;179mm\u001b[48;5;185mo\u001b[48;5;77mn\u001b[48;5;80mt\u001b[48;5;68mh\u001b[48;5;134ms\u001b[0m\n",
      "\u001b[48;5;167m \u001b[48;5;179mm\u001b[48;5;185mon\u001b[48;5;80mt\u001b[48;5;68mh\u001b[48;5;134ms\u001b[0m\n",
      "\u001b[48;5;167m m\u001b[48;5;185mon\u001b[48;5;80mt\u001b[48;5;68mh\u001b[48;5;134ms\u001b[0m\n",
      "\u001b[48;5;167m m\u001b[48;5;185mon\u001b[48;5;80mth\u001b[48;5;134ms\u001b[0m\n",
      "\u001b[48;5;167m mon\u001b[48;5;80mth\u001b[48;5;134ms\u001b[0m\n",
      "\u001b[48;5;167m month\u001b[48;5;134ms\u001b[0m\n",
      "\u001b[48;5;167m months\u001b[0m\n",
      "\n",
      "\u001b[48;5;167m \u001b[48;5;179mo\u001b[48;5;185mf\u001b[0m\n",
      "\u001b[48;5;167m o\u001b[48;5;185mf\u001b[0m\n",
      "\u001b[48;5;167m of\u001b[0m\n",
      "\n",
      "\u001b[48;5;167m \u001b[48;5;179mm\u001b[48;5;185my\u001b[0m\n",
      "\u001b[48;5;167m m\u001b[48;5;185my\u001b[0m\n",
      "\u001b[48;5;167m my\u001b[0m\n",
      "\n",
      "\u001b[48;5;167m \u001b[48;5;179ml\u001b[48;5;185mi\u001b[48;5;77mf\u001b[48;5;80me\u001b[0m\n",
      "\u001b[48;5;167m l\u001b[48;5;185mi\u001b[48;5;77mf\u001b[48;5;80me\u001b[0m\n",
      "\u001b[48;5;167m l\u001b[48;5;185mif\u001b[48;5;80me\u001b[0m\n",
      "\u001b[48;5;167m l\u001b[48;5;185mife\u001b[0m\n",
      "\u001b[48;5;167m life\u001b[0m\n",
      "\n",
      "\u001b[48;5;167m,\u001b[0m\n",
      "\n",
      "\u001b[48;5;167m \u001b[48;5;179ma\u001b[48;5;185mn\u001b[48;5;77md\u001b[0m\n",
      "\u001b[48;5;167m a\u001b[48;5;185mn\u001b[48;5;77md\u001b[0m\n",
      "\u001b[48;5;167m a\u001b[48;5;185mnd\u001b[0m\n",
      "\u001b[48;5;167m and\u001b[0m\n",
      "\n",
      "\u001b[48;5;167m \u001b[48;5;179mi\u001b[48;5;185mt\u001b[0m\n",
      "\u001b[48;5;167m \u001b[48;5;179mit\u001b[0m\n",
      "\u001b[48;5;167m it\u001b[0m\n",
      "\n",
      "\u001b[48;5;167m'\u001b[48;5;179ms\u001b[0m\n",
      "\u001b[48;5;167m's\u001b[0m\n",
      "\n",
      "\u001b[48;5;167m \u001b[48;5;179mt\u001b[48;5;185mu\u001b[48;5;77mr\u001b[48;5;80mn\u001b[48;5;68me\u001b[48;5;134md\u001b[0m\n",
      "\u001b[48;5;167m t\u001b[48;5;185mu\u001b[48;5;77mr\u001b[48;5;80mn\u001b[48;5;68me\u001b[48;5;134md\u001b[0m\n",
      "\u001b[48;5;167m t\u001b[48;5;185mu\u001b[48;5;77mr\u001b[48;5;80mn\u001b[48;5;68med\u001b[0m\n",
      "\u001b[48;5;167m t\u001b[48;5;185mur\u001b[48;5;80mn\u001b[48;5;68med\u001b[0m\n",
      "\u001b[48;5;167m t\u001b[48;5;185murn\u001b[48;5;68med\u001b[0m\n",
      "\u001b[48;5;167m turn\u001b[48;5;68med\u001b[0m\n",
      "\u001b[48;5;167m turned\u001b[0m\n",
      "\n",
      "\u001b[48;5;167m \u001b[48;5;179mi\u001b[48;5;185mn\u001b[48;5;77mt\u001b[48;5;80mo\u001b[0m\n",
      "\u001b[48;5;167m \u001b[48;5;179min\u001b[48;5;77mt\u001b[48;5;80mo\u001b[0m\n",
      "\u001b[48;5;167m in\u001b[48;5;77mt\u001b[48;5;80mo\u001b[0m\n",
      "\u001b[48;5;167m int\u001b[48;5;80mo\u001b[0m\n",
      "\u001b[48;5;167m into\u001b[0m\n",
      "\n",
      "\u001b[48;5;167m \u001b[48;5;179ma\u001b[0m\n",
      "\u001b[48;5;167m a\u001b[0m\n",
      "\n",
      "\u001b[48;5;167m \u001b[48;5;179mn\u001b[48;5;185mi\u001b[48;5;77mg\u001b[48;5;80mh\u001b[48;5;68mt\u001b[48;5;134mm\u001b[48;5;167ma\u001b[48;5;179mr\u001b[48;5;185me\u001b[0m\n",
      "\u001b[48;5;167m \u001b[48;5;179mn\u001b[48;5;185mi\u001b[48;5;77mg\u001b[48;5;80mh\u001b[48;5;68mt\u001b[48;5;134mm\u001b[48;5;167ma\u001b[48;5;179mre\u001b[0m\n",
      "\u001b[48;5;167m n\u001b[48;5;185mi\u001b[48;5;77mg\u001b[48;5;80mh\u001b[48;5;68mt\u001b[48;5;134mm\u001b[48;5;167ma\u001b[48;5;179mre\u001b[0m\n",
      "\u001b[48;5;167m n\u001b[48;5;185mig\u001b[48;5;80mh\u001b[48;5;68mt\u001b[48;5;134mm\u001b[48;5;167ma\u001b[48;5;179mre\u001b[0m\n",
      "\u001b[48;5;167m n\u001b[48;5;185mig\u001b[48;5;80mht\u001b[48;5;134mm\u001b[48;5;167ma\u001b[48;5;179mre\u001b[0m\n",
      "\u001b[48;5;167m n\u001b[48;5;185might\u001b[48;5;134mm\u001b[48;5;167ma\u001b[48;5;179mre\u001b[0m\n",
      "\u001b[48;5;167m n\u001b[48;5;185might\u001b[48;5;134mm\u001b[48;5;167mare\u001b[0m\n",
      "\u001b[48;5;167m night\u001b[48;5;134mm\u001b[48;5;167mare\u001b[0m\n",
      "\u001b[48;5;167m night\u001b[48;5;134mmare\u001b[0m\n",
      "\u001b[48;5;167m nightmare\u001b[0m\n",
      "\n",
      "\u001b[48;5;167m.\u001b[0m\n",
      "\n"
     ]
    },
    {
     "data": {
      "text/plain": [
       "[40,\n",
       " 2846,\n",
       " 5128,\n",
       " 1790,\n",
       " 28252,\n",
       " 13,\n",
       " 3011,\n",
       " 596,\n",
       " 856,\n",
       " 6646,\n",
       " 9647,\n",
       " 13,\n",
       " 64662,\n",
       " 13,\n",
       " 19198,\n",
       " 2919,\n",
       " 1139,\n",
       " 1148,\n",
       " 1288,\n",
       " 387,\n",
       " 832,\n",
       " 315,\n",
       " 279,\n",
       " 12474,\n",
       " 1403,\n",
       " 4038,\n",
       " 315,\n",
       " 856,\n",
       " 2324,\n",
       " 11,\n",
       " 323,\n",
       " 433,\n",
       " 596,\n",
       " 6656,\n",
       " 1139,\n",
       " 264,\n",
       " 38911,\n",
       " 13]"
      ]
     },
     "execution_count": 86,
     "metadata": {},
     "output_type": "execute_result"
    }
   ],
   "source": [
    "tke.encode(text)"
   ]
  },
  {
   "cell_type": "code",
   "execution_count": 87,
   "metadata": {},
   "outputs": [
    {
     "data": {
      "text/plain": [
       "[40,\n",
       " 2846,\n",
       " 5128,\n",
       " 1790,\n",
       " 28252,\n",
       " 13,\n",
       " 3011,\n",
       " 596,\n",
       " 856,\n",
       " 6646,\n",
       " 9647,\n",
       " 13,\n",
       " 64662,\n",
       " 13,\n",
       " 19198,\n",
       " 2919,\n",
       " 1139,\n",
       " 1148,\n",
       " 1288,\n",
       " 387,\n",
       " 832,\n",
       " 315,\n",
       " 279,\n",
       " 12474,\n",
       " 1403,\n",
       " 4038,\n",
       " 315,\n",
       " 856,\n",
       " 2324,\n",
       " 11,\n",
       " 323,\n",
       " 433,\n",
       " 596,\n",
       " 6656,\n",
       " 1139,\n",
       " 264,\n",
       " 38911,\n",
       " 13]"
      ]
     },
     "metadata": {},
     "output_type": "display_data"
    }
   ],
   "source": [
    "encoded = []\n",
    "for token in tok_regex.findall(text):\n",
    "    enc = tike.bpe_encode(cl100k_base._mergeable_ranks, bytes(token, \"utf-8\"), None)\n",
    "    encoded.extend(enc)\n",
    "\n",
    "display(encoded)"
   ]
  },
  {
   "cell_type": "code",
   "execution_count": 88,
   "metadata": {},
   "outputs": [
    {
     "data": {
      "text/plain": [
       "\"I'm pretty much fucked. That's my considered opinion. Fucked. Six days into what should be one of the greatest two months of my life, and it's turned into a nightmare.\""
      ]
     },
     "execution_count": 88,
     "metadata": {},
     "output_type": "execute_result"
    }
   ],
   "source": [
    "tke.decode(encoded)"
   ]
  },
  {
   "cell_type": "code",
   "execution_count": 97,
   "metadata": {},
   "outputs": [],
   "source": [
    "t2  =tike.SimpleBytePairEncoding(pat_str=split_regex, mergeable_ranks=vocab)"
   ]
  },
  {
   "cell_type": "code",
   "execution_count": 98,
   "metadata": {},
   "outputs": [
    {
     "name": "stdout",
     "output_type": "stream",
     "text": [
      "\u001b[48;5;167mI\u001b[0m\n",
      "\n",
      "\u001b[48;5;167m'\u001b[48;5;179mm\u001b[0m\n",
      "\u001b[48;5;167m'm\u001b[0m\n",
      "\n",
      "\u001b[48;5;167m \u001b[48;5;179mp\u001b[48;5;185mr\u001b[48;5;77me\u001b[48;5;80mt\u001b[48;5;68mt\u001b[48;5;134my\u001b[0m\n",
      "\u001b[48;5;167m \u001b[48;5;179mp\u001b[48;5;185mre\u001b[48;5;80mt\u001b[48;5;68mt\u001b[48;5;134my\u001b[0m\n",
      "\u001b[48;5;167m p\u001b[48;5;185mre\u001b[48;5;80mt\u001b[48;5;68mt\u001b[48;5;134my\u001b[0m\n",
      "\u001b[48;5;167m pre\u001b[48;5;80mt\u001b[48;5;68mt\u001b[48;5;134my\u001b[0m\n",
      "\u001b[48;5;167m pre\u001b[48;5;80mt\u001b[48;5;68mty\u001b[0m\n",
      "\u001b[48;5;167m pret\u001b[48;5;68mty\u001b[0m\n",
      "\u001b[48;5;167m pretty\u001b[0m\n",
      "\n",
      "\u001b[48;5;167m \u001b[48;5;179mm\u001b[48;5;185mu\u001b[48;5;77mc\u001b[48;5;80mh\u001b[0m\n",
      "\u001b[48;5;167m m\u001b[48;5;185mu\u001b[48;5;77mc\u001b[48;5;80mh\u001b[0m\n",
      "\u001b[48;5;167m m\u001b[48;5;185mu\u001b[48;5;77mch\u001b[0m\n",
      "\u001b[48;5;167m m\u001b[48;5;185much\u001b[0m\n",
      "\u001b[48;5;167m much\u001b[0m\n",
      "\n",
      "\u001b[48;5;167m \u001b[48;5;179mf\u001b[48;5;185mu\u001b[48;5;77mc\u001b[48;5;80mk\u001b[48;5;68me\u001b[48;5;134md\u001b[0m\n",
      "\u001b[48;5;167m f\u001b[48;5;185mu\u001b[48;5;77mc\u001b[48;5;80mk\u001b[48;5;68me\u001b[48;5;134md\u001b[0m\n",
      "\u001b[48;5;167m f\u001b[48;5;185mu\u001b[48;5;77mc\u001b[48;5;80mk\u001b[48;5;68med\u001b[0m\n",
      "\u001b[48;5;167m f\u001b[48;5;185mu\u001b[48;5;77mck\u001b[48;5;68med\u001b[0m\n",
      "\u001b[48;5;167m f\u001b[48;5;185muck\u001b[48;5;68med\u001b[0m\n",
      "\u001b[48;5;167m fuck\u001b[48;5;68med\u001b[0m\n",
      "\u001b[48;5;167m fucked\u001b[0m\n",
      "\n",
      "\u001b[48;5;167m.\u001b[0m\n",
      "\n",
      "\u001b[48;5;167m \u001b[48;5;179mT\u001b[48;5;185mh\u001b[48;5;77ma\u001b[48;5;80mt\u001b[0m\n",
      "\u001b[48;5;167m \u001b[48;5;179mT\u001b[48;5;185mh\u001b[48;5;77mat\u001b[0m\n",
      "\u001b[48;5;167m T\u001b[48;5;185mh\u001b[48;5;77mat\u001b[0m\n",
      "\u001b[48;5;167m Th\u001b[48;5;77mat\u001b[0m\n",
      "\u001b[48;5;167m That\u001b[0m\n",
      "\n",
      "\u001b[48;5;167m'\u001b[48;5;179ms\u001b[0m\n",
      "\u001b[48;5;167m's\u001b[0m\n",
      "\n",
      "\u001b[48;5;167m \u001b[48;5;179mm\u001b[48;5;185my\u001b[0m\n",
      "\u001b[48;5;167m m\u001b[48;5;185my\u001b[0m\n",
      "\u001b[48;5;167m my\u001b[0m\n",
      "\n",
      "\u001b[48;5;167m \u001b[48;5;179mc\u001b[48;5;185mo\u001b[48;5;77mn\u001b[48;5;80ms\u001b[48;5;68mi\u001b[48;5;134md\u001b[48;5;167me\u001b[48;5;179mr\u001b[48;5;185me\u001b[48;5;77md\u001b[0m\n",
      "\u001b[48;5;167m \u001b[48;5;179mc\u001b[48;5;185mo\u001b[48;5;77mn\u001b[48;5;80ms\u001b[48;5;68mi\u001b[48;5;134md\u001b[48;5;167mer\u001b[48;5;185me\u001b[48;5;77md\u001b[0m\n",
      "\u001b[48;5;167m \u001b[48;5;179mc\u001b[48;5;185mon\u001b[48;5;80ms\u001b[48;5;68mi\u001b[48;5;134md\u001b[48;5;167mer\u001b[48;5;185me\u001b[48;5;77md\u001b[0m\n",
      "\u001b[48;5;167m c\u001b[48;5;185mon\u001b[48;5;80ms\u001b[48;5;68mi\u001b[48;5;134md\u001b[48;5;167mer\u001b[48;5;185me\u001b[48;5;77md\u001b[0m\n",
      "\u001b[48;5;167m c\u001b[48;5;185mon\u001b[48;5;80ms\u001b[48;5;68mi\u001b[48;5;134md\u001b[48;5;167mer\u001b[48;5;185med\u001b[0m\n",
      "\u001b[48;5;167m c\u001b[48;5;185mon\u001b[48;5;80ms\u001b[48;5;68mid\u001b[48;5;167mer\u001b[48;5;185med\u001b[0m\n",
      "\u001b[48;5;167m con\u001b[48;5;80ms\u001b[48;5;68mid\u001b[48;5;167mer\u001b[48;5;185med\u001b[0m\n",
      "\u001b[48;5;167m cons\u001b[48;5;68mid\u001b[48;5;167mer\u001b[48;5;185med\u001b[0m\n",
      "\u001b[48;5;167m cons\u001b[48;5;68mider\u001b[48;5;185med\u001b[0m\n",
      "\u001b[48;5;167m consider\u001b[48;5;185med\u001b[0m\n",
      "\u001b[48;5;167m considered\u001b[0m\n",
      "\n",
      "\u001b[48;5;167m \u001b[48;5;179mo\u001b[48;5;185mp\u001b[48;5;77mi\u001b[48;5;80mn\u001b[48;5;68mi\u001b[48;5;134mo\u001b[48;5;167mn\u001b[0m\n",
      "\u001b[48;5;167m \u001b[48;5;179mo\u001b[48;5;185mp\u001b[48;5;77min\u001b[48;5;68mi\u001b[48;5;134mo\u001b[48;5;167mn\u001b[0m\n",
      "\u001b[48;5;167m \u001b[48;5;179mo\u001b[48;5;185mp\u001b[48;5;77min\u001b[48;5;68mi\u001b[48;5;134mon\u001b[0m\n",
      "\u001b[48;5;167m \u001b[48;5;179mo\u001b[48;5;185mp\u001b[48;5;77min\u001b[48;5;68mion\u001b[0m\n",
      "\u001b[48;5;167m o\u001b[48;5;185mp\u001b[48;5;77min\u001b[48;5;68mion\u001b[0m\n",
      "\u001b[48;5;167m op\u001b[48;5;77min\u001b[48;5;68mion\u001b[0m\n",
      "\u001b[48;5;167m opin\u001b[48;5;68mion\u001b[0m\n",
      "\u001b[48;5;167m opinion\u001b[0m\n",
      "\n",
      "\u001b[48;5;167m.\u001b[0m\n",
      "\n",
      "\u001b[48;5;167m \u001b[48;5;179mF\u001b[48;5;185mu\u001b[48;5;77mc\u001b[48;5;80mk\u001b[48;5;68me\u001b[48;5;134md\u001b[0m\n",
      "\u001b[48;5;167m \u001b[48;5;179mF\u001b[48;5;185mu\u001b[48;5;77mc\u001b[48;5;80mk\u001b[48;5;68med\u001b[0m\n",
      "\u001b[48;5;167m \u001b[48;5;179mF\u001b[48;5;185mu\u001b[48;5;77mck\u001b[48;5;68med\u001b[0m\n",
      "\u001b[48;5;167m F\u001b[48;5;185mu\u001b[48;5;77mck\u001b[48;5;68med\u001b[0m\n",
      "\u001b[48;5;167m F\u001b[48;5;185muck\u001b[48;5;68med\u001b[0m\n",
      "\u001b[48;5;167m Fuck\u001b[48;5;68med\u001b[0m\n",
      "\u001b[48;5;167m Fucked\u001b[0m\n",
      "\n",
      "\u001b[48;5;167m.\u001b[0m\n",
      "\n",
      "\u001b[48;5;167m \u001b[48;5;179mS\u001b[48;5;185mi\u001b[48;5;77mx\u001b[0m\n",
      "\u001b[48;5;167m S\u001b[48;5;185mi\u001b[48;5;77mx\u001b[0m\n",
      "\u001b[48;5;167m S\u001b[48;5;185mix\u001b[0m\n",
      "\u001b[48;5;167m Six\u001b[0m\n",
      "\n",
      "\u001b[48;5;167m \u001b[48;5;179md\u001b[48;5;185ma\u001b[48;5;77my\u001b[48;5;80ms\u001b[0m\n",
      "\u001b[48;5;167m d\u001b[48;5;185ma\u001b[48;5;77my\u001b[48;5;80ms\u001b[0m\n",
      "\u001b[48;5;167m d\u001b[48;5;185may\u001b[48;5;80ms\u001b[0m\n",
      "\u001b[48;5;167m d\u001b[48;5;185mays\u001b[0m\n",
      "\u001b[48;5;167m days\u001b[0m\n",
      "\n",
      "\u001b[48;5;167m \u001b[48;5;179mi\u001b[48;5;185mn\u001b[48;5;77mt\u001b[48;5;80mo\u001b[0m\n",
      "\u001b[48;5;167m \u001b[48;5;179min\u001b[48;5;77mt\u001b[48;5;80mo\u001b[0m\n",
      "\u001b[48;5;167m in\u001b[48;5;77mt\u001b[48;5;80mo\u001b[0m\n",
      "\u001b[48;5;167m int\u001b[48;5;80mo\u001b[0m\n",
      "\u001b[48;5;167m into\u001b[0m\n",
      "\n",
      "\u001b[48;5;167m \u001b[48;5;179mw\u001b[48;5;185mh\u001b[48;5;77ma\u001b[48;5;80mt\u001b[0m\n",
      "\u001b[48;5;167m \u001b[48;5;179mw\u001b[48;5;185mh\u001b[48;5;77mat\u001b[0m\n",
      "\u001b[48;5;167m w\u001b[48;5;185mh\u001b[48;5;77mat\u001b[0m\n",
      "\u001b[48;5;167m wh\u001b[48;5;77mat\u001b[0m\n",
      "\u001b[48;5;167m what\u001b[0m\n",
      "\n",
      "\u001b[48;5;167m \u001b[48;5;179ms\u001b[48;5;185mh\u001b[48;5;77mo\u001b[48;5;80mu\u001b[48;5;68ml\u001b[48;5;134md\u001b[0m\n",
      "\u001b[48;5;167m s\u001b[48;5;185mh\u001b[48;5;77mo\u001b[48;5;80mu\u001b[48;5;68ml\u001b[48;5;134md\u001b[0m\n",
      "\u001b[48;5;167m s\u001b[48;5;185mh\u001b[48;5;77mou\u001b[48;5;68ml\u001b[48;5;134md\u001b[0m\n",
      "\u001b[48;5;167m s\u001b[48;5;185mh\u001b[48;5;77mou\u001b[48;5;68mld\u001b[0m\n",
      "\u001b[48;5;167m sh\u001b[48;5;77mou\u001b[48;5;68mld\u001b[0m\n",
      "\u001b[48;5;167m sh\u001b[48;5;77mould\u001b[0m\n",
      "\u001b[48;5;167m should\u001b[0m\n",
      "\n",
      "\u001b[48;5;167m \u001b[48;5;179mb\u001b[48;5;185me\u001b[0m\n",
      "\u001b[48;5;167m b\u001b[48;5;185me\u001b[0m\n",
      "\u001b[48;5;167m be\u001b[0m\n",
      "\n",
      "\u001b[48;5;167m \u001b[48;5;179mo\u001b[48;5;185mn\u001b[48;5;77me\u001b[0m\n",
      "\u001b[48;5;167m \u001b[48;5;179mon\u001b[48;5;77me\u001b[0m\n",
      "\u001b[48;5;167m on\u001b[48;5;77me\u001b[0m\n",
      "\u001b[48;5;167m one\u001b[0m\n",
      "\n",
      "\u001b[48;5;167m \u001b[48;5;179mo\u001b[48;5;185mf\u001b[0m\n",
      "\u001b[48;5;167m o\u001b[48;5;185mf\u001b[0m\n",
      "\u001b[48;5;167m of\u001b[0m\n",
      "\n",
      "\u001b[48;5;167m \u001b[48;5;179mt\u001b[48;5;185mh\u001b[48;5;77me\u001b[0m\n",
      "\u001b[48;5;167m t\u001b[48;5;185mh\u001b[48;5;77me\u001b[0m\n",
      "\u001b[48;5;167m th\u001b[48;5;77me\u001b[0m\n",
      "\u001b[48;5;167m the\u001b[0m\n",
      "\n",
      "\u001b[48;5;167m \u001b[48;5;179mg\u001b[48;5;185mr\u001b[48;5;77me\u001b[48;5;80ma\u001b[48;5;68mt\u001b[48;5;134me\u001b[48;5;167ms\u001b[48;5;179mt\u001b[0m\n",
      "\u001b[48;5;167m \u001b[48;5;179mg\u001b[48;5;185mre\u001b[48;5;80ma\u001b[48;5;68mt\u001b[48;5;134me\u001b[48;5;167ms\u001b[48;5;179mt\u001b[0m\n",
      "\u001b[48;5;167m \u001b[48;5;179mg\u001b[48;5;185mre\u001b[48;5;80mat\u001b[48;5;134me\u001b[48;5;167ms\u001b[48;5;179mt\u001b[0m\n",
      "\u001b[48;5;167m \u001b[48;5;179mg\u001b[48;5;185mre\u001b[48;5;80mat\u001b[48;5;134me\u001b[48;5;167mst\u001b[0m\n",
      "\u001b[48;5;167m g\u001b[48;5;185mre\u001b[48;5;80mat\u001b[48;5;134me\u001b[48;5;167mst\u001b[0m\n",
      "\u001b[48;5;167m g\u001b[48;5;185mre\u001b[48;5;80mate\u001b[48;5;167mst\u001b[0m\n",
      "\u001b[48;5;167m g\u001b[48;5;185mreate\u001b[48;5;167mst\u001b[0m\n",
      "\u001b[48;5;167m g\u001b[48;5;185mreatest\u001b[0m\n",
      "\u001b[48;5;167m greatest\u001b[0m\n",
      "\n",
      "\u001b[48;5;167m \u001b[48;5;179mt\u001b[48;5;185mw\u001b[48;5;77mo\u001b[0m\n",
      "\u001b[48;5;167m t\u001b[48;5;185mw\u001b[48;5;77mo\u001b[0m\n",
      "\u001b[48;5;167m t\u001b[48;5;185mwo\u001b[0m\n",
      "\u001b[48;5;167m two\u001b[0m\n",
      "\n",
      "\u001b[48;5;167m \u001b[48;5;179mm\u001b[48;5;185mo\u001b[48;5;77mn\u001b[48;5;80mt\u001b[48;5;68mh\u001b[48;5;134ms\u001b[0m\n",
      "\u001b[48;5;167m \u001b[48;5;179mm\u001b[48;5;185mon\u001b[48;5;80mt\u001b[48;5;68mh\u001b[48;5;134ms\u001b[0m\n",
      "\u001b[48;5;167m m\u001b[48;5;185mon\u001b[48;5;80mt\u001b[48;5;68mh\u001b[48;5;134ms\u001b[0m\n",
      "\u001b[48;5;167m m\u001b[48;5;185mon\u001b[48;5;80mth\u001b[48;5;134ms\u001b[0m\n",
      "\u001b[48;5;167m mon\u001b[48;5;80mth\u001b[48;5;134ms\u001b[0m\n",
      "\u001b[48;5;167m month\u001b[48;5;134ms\u001b[0m\n",
      "\u001b[48;5;167m months\u001b[0m\n",
      "\n",
      "\u001b[48;5;167m \u001b[48;5;179mo\u001b[48;5;185mf\u001b[0m\n",
      "\u001b[48;5;167m o\u001b[48;5;185mf\u001b[0m\n",
      "\u001b[48;5;167m of\u001b[0m\n",
      "\n",
      "\u001b[48;5;167m \u001b[48;5;179mm\u001b[48;5;185my\u001b[0m\n",
      "\u001b[48;5;167m m\u001b[48;5;185my\u001b[0m\n",
      "\u001b[48;5;167m my\u001b[0m\n",
      "\n",
      "\u001b[48;5;167m \u001b[48;5;179ml\u001b[48;5;185mi\u001b[48;5;77mf\u001b[48;5;80me\u001b[0m\n",
      "\u001b[48;5;167m l\u001b[48;5;185mi\u001b[48;5;77mf\u001b[48;5;80me\u001b[0m\n",
      "\u001b[48;5;167m l\u001b[48;5;185mif\u001b[48;5;80me\u001b[0m\n",
      "\u001b[48;5;167m l\u001b[48;5;185mife\u001b[0m\n",
      "\u001b[48;5;167m life\u001b[0m\n",
      "\n",
      "\u001b[48;5;167m,\u001b[0m\n",
      "\n",
      "\u001b[48;5;167m \u001b[48;5;179ma\u001b[48;5;185mn\u001b[48;5;77md\u001b[0m\n",
      "\u001b[48;5;167m a\u001b[48;5;185mn\u001b[48;5;77md\u001b[0m\n",
      "\u001b[48;5;167m a\u001b[48;5;185mnd\u001b[0m\n",
      "\u001b[48;5;167m and\u001b[0m\n",
      "\n",
      "\u001b[48;5;167m \u001b[48;5;179mi\u001b[48;5;185mt\u001b[0m\n",
      "\u001b[48;5;167m \u001b[48;5;179mit\u001b[0m\n",
      "\u001b[48;5;167m it\u001b[0m\n",
      "\n",
      "\u001b[48;5;167m'\u001b[48;5;179ms\u001b[0m\n",
      "\u001b[48;5;167m's\u001b[0m\n",
      "\n",
      "\u001b[48;5;167m \u001b[48;5;179mt\u001b[48;5;185mu\u001b[48;5;77mr\u001b[48;5;80mn\u001b[48;5;68me\u001b[48;5;134md\u001b[0m\n",
      "\u001b[48;5;167m t\u001b[48;5;185mu\u001b[48;5;77mr\u001b[48;5;80mn\u001b[48;5;68me\u001b[48;5;134md\u001b[0m\n",
      "\u001b[48;5;167m t\u001b[48;5;185mu\u001b[48;5;77mr\u001b[48;5;80mn\u001b[48;5;68med\u001b[0m\n",
      "\u001b[48;5;167m t\u001b[48;5;185mur\u001b[48;5;80mn\u001b[48;5;68med\u001b[0m\n",
      "\u001b[48;5;167m t\u001b[48;5;185murn\u001b[48;5;68med\u001b[0m\n",
      "\u001b[48;5;167m turn\u001b[48;5;68med\u001b[0m\n",
      "\u001b[48;5;167m turned\u001b[0m\n",
      "\n",
      "\u001b[48;5;167m \u001b[48;5;179mi\u001b[48;5;185mn\u001b[48;5;77mt\u001b[48;5;80mo\u001b[0m\n",
      "\u001b[48;5;167m \u001b[48;5;179min\u001b[48;5;77mt\u001b[48;5;80mo\u001b[0m\n",
      "\u001b[48;5;167m in\u001b[48;5;77mt\u001b[48;5;80mo\u001b[0m\n",
      "\u001b[48;5;167m int\u001b[48;5;80mo\u001b[0m\n",
      "\u001b[48;5;167m into\u001b[0m\n",
      "\n",
      "\u001b[48;5;167m \u001b[48;5;179ma\u001b[0m\n",
      "\u001b[48;5;167m a\u001b[0m\n",
      "\n",
      "\u001b[48;5;167m \u001b[48;5;179mn\u001b[48;5;185mi\u001b[48;5;77mg\u001b[48;5;80mh\u001b[48;5;68mt\u001b[48;5;134mm\u001b[48;5;167ma\u001b[48;5;179mr\u001b[48;5;185me\u001b[0m\n",
      "\u001b[48;5;167m \u001b[48;5;179mn\u001b[48;5;185mi\u001b[48;5;77mg\u001b[48;5;80mh\u001b[48;5;68mt\u001b[48;5;134mm\u001b[48;5;167ma\u001b[48;5;179mre\u001b[0m\n",
      "\u001b[48;5;167m n\u001b[48;5;185mi\u001b[48;5;77mg\u001b[48;5;80mh\u001b[48;5;68mt\u001b[48;5;134mm\u001b[48;5;167ma\u001b[48;5;179mre\u001b[0m\n",
      "\u001b[48;5;167m n\u001b[48;5;185mig\u001b[48;5;80mh\u001b[48;5;68mt\u001b[48;5;134mm\u001b[48;5;167ma\u001b[48;5;179mre\u001b[0m\n",
      "\u001b[48;5;167m n\u001b[48;5;185mig\u001b[48;5;80mht\u001b[48;5;134mm\u001b[48;5;167ma\u001b[48;5;179mre\u001b[0m\n",
      "\u001b[48;5;167m n\u001b[48;5;185might\u001b[48;5;134mm\u001b[48;5;167ma\u001b[48;5;179mre\u001b[0m\n",
      "\u001b[48;5;167m n\u001b[48;5;185might\u001b[48;5;134mm\u001b[48;5;167mare\u001b[0m\n",
      "\u001b[48;5;167m night\u001b[48;5;134mm\u001b[48;5;167mare\u001b[0m\n",
      "\u001b[48;5;167m night\u001b[48;5;134mmare\u001b[0m\n",
      "\u001b[48;5;167m nightmare\u001b[0m\n",
      "\n",
      "\u001b[48;5;167m.\u001b[0m\n",
      "\n"
     ]
    }
   ],
   "source": [
    "enc2  =t2.encode(text)"
   ]
  }
 ],
 "metadata": {
  "kernelspec": {
   "display_name": ".venv",
   "language": "python",
   "name": "python3"
  },
  "language_info": {
   "codemirror_mode": {
    "name": "ipython",
    "version": 3
   },
   "file_extension": ".py",
   "mimetype": "text/x-python",
   "name": "python",
   "nbconvert_exporter": "python",
   "pygments_lexer": "ipython3",
   "version": "3.13.3"
  }
 },
 "nbformat": 4,
 "nbformat_minor": 2
}
